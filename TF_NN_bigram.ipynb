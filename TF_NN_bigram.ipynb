{
  "nbformat": 4,
  "nbformat_minor": 0,
  "metadata": {
    "colab": {
      "name": "TF_NN_bigram.ipynb",
      "provenance": [],
      "toc_visible": true,
      "include_colab_link": true
    },
    "kernelspec": {
      "name": "python3",
      "display_name": "Python 3"
    }
  },
  "cells": [
    {
      "cell_type": "markdown",
      "metadata": {
        "id": "view-in-github",
        "colab_type": "text"
      },
      "source": [
        "<a href=\"https://colab.research.google.com/github/MagnusXu/cisc6210nlp/blob/master/TF_NN_bigram.ipynb\" target=\"_parent\"><img src=\"https://colab.research.google.com/assets/colab-badge.svg\" alt=\"Open In Colab\"/></a>"
      ]
    },
    {
      "cell_type": "markdown",
      "metadata": {
        "id": "h7O5Crk58FBr",
        "colab_type": "text"
      },
      "source": [
        "# Neural Network Implementation with Tensorflow\n"
      ]
    },
    {
      "cell_type": "markdown",
      "metadata": {
        "id": "BxvXfWWy8KXv",
        "colab_type": "text"
      },
      "source": [
        "## Part 1. Packages"
      ]
    },
    {
      "cell_type": "code",
      "metadata": {
        "id": "loPbS5Wa8CjZ",
        "colab_type": "code",
        "colab": {
          "base_uri": "https://localhost:8080/",
          "height": 119
        },
        "outputId": "e6fd7931-d277-4844-ff39-b253ff9634f1"
      },
      "source": [
        "import numpy as np\n",
        "import random\n",
        "from datetime import datetime\n",
        "import nltk\n",
        "nltk.download()"
      ],
      "execution_count": 2,
      "outputs": [
        {
          "output_type": "stream",
          "text": [
            "NLTK Downloader\n",
            "---------------------------------------------------------------------------\n",
            "    d) Download   l) List    u) Update   c) Config   h) Help   q) Quit\n",
            "---------------------------------------------------------------------------\n",
            "Downloader> q\n"
          ],
          "name": "stdout"
        },
        {
          "output_type": "execute_result",
          "data": {
            "text/plain": [
              "True"
            ]
          },
          "metadata": {
            "tags": []
          },
          "execution_count": 2
        }
      ]
    },
    {
      "cell_type": "code",
      "metadata": {
        "id": "-hAx1_sc8lGq",
        "colab_type": "code",
        "colab": {}
      },
      "source": [
        "from nltk.corpus import brown"
      ],
      "execution_count": 0,
      "outputs": []
    },
    {
      "cell_type": "code",
      "metadata": {
        "id": "NdhF6YVf8qxq",
        "colab_type": "code",
        "outputId": "bc30d416-b78c-4ced-80fb-fd013a8a420b",
        "colab": {
          "base_uri": "https://localhost:8080/",
          "height": 272
        }
      },
      "source": [
        "!pip uninstall tensorflow"
      ],
      "execution_count": 0,
      "outputs": [
        {
          "output_type": "stream",
          "text": [
            "Uninstalling tensorflow-1.15.0:\n",
            "  Would remove:\n",
            "    /usr/local/bin/estimator_ckpt_converter\n",
            "    /usr/local/bin/freeze_graph\n",
            "    /usr/local/bin/saved_model_cli\n",
            "    /usr/local/bin/tensorboard\n",
            "    /usr/local/bin/tf_upgrade_v2\n",
            "    /usr/local/bin/tflite_convert\n",
            "    /usr/local/bin/toco\n",
            "    /usr/local/bin/toco_from_protos\n",
            "    /usr/local/lib/python3.6/dist-packages/tensorflow-1.15.0.dist-info/*\n",
            "    /usr/local/lib/python3.6/dist-packages/tensorflow/*\n",
            "    /usr/local/lib/python3.6/dist-packages/tensorflow_core/*\n",
            "Proceed (y/n)? y\n",
            "  Successfully uninstalled tensorflow-1.15.0\n"
          ],
          "name": "stdout"
        }
      ]
    },
    {
      "cell_type": "code",
      "metadata": {
        "id": "PI1mAqK49DLC",
        "colab_type": "code",
        "outputId": "a302c8fa-7c39-446e-a834-be8b2371a75f",
        "colab": {
          "base_uri": "https://localhost:8080/",
          "height": 513
        }
      },
      "source": [
        "!pip install tensorflow==2.0.0-beta1"
      ],
      "execution_count": 0,
      "outputs": [
        {
          "output_type": "stream",
          "text": [
            "Collecting tensorflow==2.0.0-beta1\n",
            "\u001b[?25l  Downloading https://files.pythonhosted.org/packages/29/6c/2c9a5c4d095c63c2fb37d20def0e4f92685f7aee9243d6aae25862694fd1/tensorflow-2.0.0b1-cp36-cp36m-manylinux1_x86_64.whl (87.9MB)\n",
            "\u001b[K     |████████████████████████████████| 87.9MB 85kB/s \n",
            "\u001b[?25hCollecting tf-estimator-nightly<1.14.0.dev2019060502,>=1.14.0.dev2019060501\n",
            "\u001b[?25l  Downloading https://files.pythonhosted.org/packages/32/dd/99c47dd007dcf10d63fd895611b063732646f23059c618a373e85019eb0e/tf_estimator_nightly-1.14.0.dev2019060501-py2.py3-none-any.whl (496kB)\n",
            "\u001b[K     |████████████████████████████████| 501kB 44.9MB/s \n",
            "\u001b[?25hRequirement already satisfied: wheel>=0.26 in /usr/local/lib/python3.6/dist-packages (from tensorflow==2.0.0-beta1) (0.33.6)\n",
            "Requirement already satisfied: google-pasta>=0.1.6 in /usr/local/lib/python3.6/dist-packages (from tensorflow==2.0.0-beta1) (0.1.7)\n",
            "Requirement already satisfied: protobuf>=3.6.1 in /usr/local/lib/python3.6/dist-packages (from tensorflow==2.0.0-beta1) (3.10.0)\n",
            "Requirement already satisfied: absl-py>=0.7.0 in /usr/local/lib/python3.6/dist-packages (from tensorflow==2.0.0-beta1) (0.8.1)\n",
            "Requirement already satisfied: astor>=0.6.0 in /usr/local/lib/python3.6/dist-packages (from tensorflow==2.0.0-beta1) (0.8.0)\n",
            "Requirement already satisfied: wrapt>=1.11.1 in /usr/local/lib/python3.6/dist-packages (from tensorflow==2.0.0-beta1) (1.11.2)\n",
            "Requirement already satisfied: keras-applications>=1.0.6 in /usr/local/lib/python3.6/dist-packages (from tensorflow==2.0.0-beta1) (1.0.8)\n",
            "Requirement already satisfied: keras-preprocessing>=1.0.5 in /usr/local/lib/python3.6/dist-packages (from tensorflow==2.0.0-beta1) (1.1.0)\n",
            "Requirement already satisfied: grpcio>=1.8.6 in /usr/local/lib/python3.6/dist-packages (from tensorflow==2.0.0-beta1) (1.15.0)\n",
            "Collecting tb-nightly<1.14.0a20190604,>=1.14.0a20190603\n",
            "\u001b[?25l  Downloading https://files.pythonhosted.org/packages/a4/96/571b875cd81dda9d5dfa1422a4f9d749e67c0a8d4f4f0b33a4e5f5f35e27/tb_nightly-1.14.0a20190603-py3-none-any.whl (3.1MB)\n",
            "\u001b[K     |████████████████████████████████| 3.1MB 56.2MB/s \n",
            "\u001b[?25hRequirement already satisfied: six>=1.10.0 in /usr/local/lib/python3.6/dist-packages (from tensorflow==2.0.0-beta1) (1.12.0)\n",
            "Requirement already satisfied: numpy<2.0,>=1.14.5 in /usr/local/lib/python3.6/dist-packages (from tensorflow==2.0.0-beta1) (1.17.3)\n",
            "Requirement already satisfied: gast>=0.2.0 in /usr/local/lib/python3.6/dist-packages (from tensorflow==2.0.0-beta1) (0.2.2)\n",
            "Requirement already satisfied: termcolor>=1.1.0 in /usr/local/lib/python3.6/dist-packages (from tensorflow==2.0.0-beta1) (1.1.0)\n",
            "Requirement already satisfied: setuptools in /usr/local/lib/python3.6/dist-packages (from protobuf>=3.6.1->tensorflow==2.0.0-beta1) (41.4.0)\n",
            "Requirement already satisfied: h5py in /usr/local/lib/python3.6/dist-packages (from keras-applications>=1.0.6->tensorflow==2.0.0-beta1) (2.8.0)\n",
            "Requirement already satisfied: werkzeug>=0.11.15 in /usr/local/lib/python3.6/dist-packages (from tb-nightly<1.14.0a20190604,>=1.14.0a20190603->tensorflow==2.0.0-beta1) (0.16.0)\n",
            "Requirement already satisfied: markdown>=2.6.8 in /usr/local/lib/python3.6/dist-packages (from tb-nightly<1.14.0a20190604,>=1.14.0a20190603->tensorflow==2.0.0-beta1) (3.1.1)\n",
            "Installing collected packages: tf-estimator-nightly, tb-nightly, tensorflow\n",
            "Successfully installed tb-nightly-1.14.0a20190603 tensorflow-2.0.0b1 tf-estimator-nightly-1.14.0.dev2019060501\n"
          ],
          "name": "stdout"
        }
      ]
    },
    {
      "cell_type": "code",
      "metadata": {
        "id": "5l3_Dwvw9V2O",
        "colab_type": "code",
        "outputId": "bfcadfa3-9fc7-4e1c-d5e8-28e38d52b50f",
        "colab": {
          "base_uri": "https://localhost:8080/",
          "height": 80
        }
      },
      "source": [
        "import tensorflow as tf\n",
        "print(tf.__version__)"
      ],
      "execution_count": 3,
      "outputs": [
        {
          "output_type": "display_data",
          "data": {
            "text/html": [
              "<p style=\"color: red;\">\n",
              "The default version of TensorFlow in Colab will soon switch to TensorFlow 2.x.<br>\n",
              "We recommend you <a href=\"https://www.tensorflow.org/guide/migrate\" target=\"_blank\">upgrade</a> now \n",
              "or ensure your notebook will continue to use TensorFlow 1.x via the <code>%tensorflow_version 1.x</code> magic:\n",
              "<a href=\"https://colab.research.google.com/notebooks/tensorflow_version.ipynb\" target=\"_blank\">more info</a>.</p>\n"
            ],
            "text/plain": [
              "<IPython.core.display.HTML object>"
            ]
          },
          "metadata": {
            "tags": []
          }
        },
        {
          "output_type": "stream",
          "text": [
            "1.15.0\n"
          ],
          "name": "stdout"
        }
      ]
    },
    {
      "cell_type": "markdown",
      "metadata": {
        "id": "e8F8WqRH9iFJ",
        "colab_type": "text"
      },
      "source": [
        "## Part 2. Data Preprocessing"
      ]
    },
    {
      "cell_type": "code",
      "metadata": {
        "id": "JdJhiZyS-qjI",
        "colab_type": "code",
        "outputId": "bf4b58f5-e165-4950-bca8-6e60fde624d5",
        "colab": {
          "base_uri": "https://localhost:8080/",
          "height": 68
        }
      },
      "source": [
        "nltk.download('brown')"
      ],
      "execution_count": 4,
      "outputs": [
        {
          "output_type": "stream",
          "text": [
            "[nltk_data] Downloading package brown to /root/nltk_data...\n",
            "[nltk_data]   Unzipping corpora/brown.zip.\n"
          ],
          "name": "stdout"
        },
        {
          "output_type": "execute_result",
          "data": {
            "text/plain": [
              "True"
            ]
          },
          "metadata": {
            "tags": []
          },
          "execution_count": 4
        }
      ]
    },
    {
      "cell_type": "code",
      "metadata": {
        "id": "M9wxg9X79nKE",
        "colab_type": "code",
        "outputId": "32a672d8-4c6c-4b60-b6d3-fb104df03335",
        "colab": {
          "base_uri": "https://localhost:8080/",
          "height": 71
        }
      },
      "source": [
        "print(brown.categories())\n",
        "print(brown.words(categories='news'))"
      ],
      "execution_count": 5,
      "outputs": [
        {
          "output_type": "stream",
          "text": [
            "['adventure', 'belles_lettres', 'editorial', 'fiction', 'government', 'hobbies', 'humor', 'learned', 'lore', 'mystery', 'news', 'religion', 'reviews', 'romance', 'science_fiction']\n",
            "['The', 'Fulton', 'County', 'Grand', 'Jury', 'said', ...]\n"
          ],
          "name": "stdout"
        }
      ]
    },
    {
      "cell_type": "code",
      "metadata": {
        "id": "0ygMPWXi-5yE",
        "colab_type": "code",
        "outputId": "a62ce24f-4c7d-4bfa-edb8-fa2cc3978d1a",
        "colab": {
          "base_uri": "https://localhost:8080/",
          "height": 51
        }
      },
      "source": [
        "source_text = brown.words()\n",
        "print(len(set(source_text)))\n",
        "print(len(source_text))"
      ],
      "execution_count": 6,
      "outputs": [
        {
          "output_type": "stream",
          "text": [
            "56057\n",
            "1161192\n"
          ],
          "name": "stdout"
        }
      ]
    },
    {
      "cell_type": "code",
      "metadata": {
        "id": "LtgnIuMjLeQL",
        "colab_type": "code",
        "outputId": "5c9b1505-7eae-4c22-803c-3558be73f8a6",
        "colab": {
          "base_uri": "https://localhost:8080/",
          "height": 54
        }
      },
      "source": [
        "tags = set([\n",
        "    tag for sentence in brown.tagged_sents() \n",
        "    for _, tag in sentence\n",
        "])\n",
        "print('nb_tags: %sntags: %s' % (len(tags), tags))"
      ],
      "execution_count": 7,
      "outputs": [
        {
          "output_type": "stream",
          "text": [
            "nb_tags: 472ntags: {'FW-RB-TL', 'FW-PP$-NC', 'FW-PP$-TL', 'BEM*', 'NR-HL', 'PPSS+BEZ', 'WRB+BEZ', 'DO*', 'TO+VB', '*-HL', 'DOZ-TL', 'DO-NC', 'NN$', 'CS-NC', 'JJS', 'ABX', 'FW-VBN', '*-TL', 'FW-CC', 'PP$$', 'HV-TL', 'PPO', 'VBZ-TL', 'BEZ-NC', 'ABN-TL', 'FW-NN$', 'UH-HL', 'IN-HL', 'RB-NC', 'NN+IN', 'CD-TL-HL', 'PPSS+MD-NC', 'HV*', 'QLP', 'WRB+IN', 'HV+TO', 'WPS+HVZ', '(', 'NR$', ':', 'FW-NPS', '``', 'WPO', '.-HL', 'NNS-NC', 'BER', 'JJR', ',-HL', 'FW-JJR', 'NN-TL-NC', 'RBR+CS', 'VB-NC', 'BEZ*', 'RP', 'CD-NC', 'NP+HVZ-NC', 'PPSS-NC', 'JJ+JJ-NC', 'FW-CD-TL', 'PPSS+BER-NC', 'PPS', 'NN-NC', 'FW-NNS-NC', 'NN-TL-HL', 'WPS+MD', 'FW-VBG', 'NP+BEZ-NC', 'DO+PPSS', 'RB-TL', 'FW-VB-NC', 'FW-NN-TL-NC', '---HL', 'DOD-NC', 'DT+BEZ-NC', 'PPO-HL', 'VB', 'FW-UH', 'WP$', 'VB+AT', 'JJR-NC', 'NR', 'NR-TL-HL', 'EX+HVZ', 'VBN-NC', 'RP-TL', 'BEDZ-HL', 'BEDZ', 'BE-HL', 'FW-UH-TL', 'UH', 'NNS+MD', 'WRB+DOD*', 'FW-CD', 'MD-HL', 'FW-PN', 'IN-TL-HL', 'HVN', 'WPS+BEZ', 'DOD', 'PN-HL', 'FW-VB', 'FW-VB-TL', 'WRB+BER', 'RP-HL', 'FW-RB', 'ABN', 'WDT-HL', 'RN', 'DT+BEZ', 'RB+BEZ-NC', 'VBD-NC', 'HV-NC', 'EX+HVD', 'PPO-TL', 'NPS$-TL', 'WDT+BEZ', 'DOD*-TL', 'FW-PPO+IN', 'CC-TL', 'QL', 'IN+IN', 'RB+BEZ', ')', 'FW-PPO', 'PP$', 'HVZ*', 'NN', 'DT', 'AP-NC', 'WDT-NC', 'NRS-TL', 'FW-WPS', 'BER-NC', 'FW-*-TL', \"'\", 'FW-NN$-TL', 'VBD', 'IN-TL', ',', 'FW-PPL', 'FW-IN+AT', 'FW-JJT', 'FW-UH-NC', 'DTI-HL', 'VBD-TL', 'HVZ-TL', 'FW-NR', 'PP$-HL', 'FW-PPS', 'FW-IN+NN', 'PPS+BEZ', 'NRS', 'PPL', 'FW-PPL+VBZ', 'EX+MD', 'PPSS+MD', 'VB+JJ-NC', 'FW-HV', 'NNS$-TL-HL', 'TO-HL', 'NN+BEZ', 'WPS-TL', 'MD-TL', 'DO', 'BED*', 'AT-TL', 'FW-AT-HL', 'WRB-NC', '.-TL', '(-HL', 'BEZ-TL', 'PN+HVZ', 'PPSS-HL', 'FW-VBZ', 'RP+IN', 'PPL-TL', 'FW-BER', 'VBG-NC', 'JJR-TL', 'WQL-TL', 'NPS$', 'UH-NC', 'WDT+BEZ-HL', 'FW-BEZ', 'FW-RB+CC', 'PPSS+BEM', 'RB', 'NR+MD', 'NP-HL', 'VB-TL', 'MD+PPSS', 'DO*-HL', 'WDT+HVZ', 'NN+BEZ-TL', 'NN+MD', 'VBZ-HL', 'NN$-TL', 'FW-NR-TL', 'FW-TO+VB', 'JJS-TL', 'JJT-TL', 'HVG-HL', 'WRB+DO', 'HVD', 'FW-DT', 'EX-NC', 'WPS+HVD', 'BEZ-HL', 'NR-TL', \"''\", 'PPSS+BER-TL', 'FW-VBG-TL', 'MD*', 'AP+AP-NC', 'WDT+BER+PP', 'VBN', 'VBG', 'NNS$-TL', 'FW-DTS', 'PPSS-TL', 'WPS+BEZ-NC', 'WDT+DOD', 'PN+MD', 'FW-NP', 'NNS', 'FW-*', 'MD', 'FW-NP-TL', '.-NC', 'NN-HL', 'OD', 'DT+MD', 'WDT+DO+PPS', 'WRB+MD', 'JJ$-TL', 'VBN-HL', 'NPS', 'CD-HL', 'FW-IN+NN-TL', 'BED-NC', 'MD*-HL', 'BEM', 'CD', 'WRB+BEZ-TL', 'WPO-TL', 'AT-NC', 'NP+MD', 'FW-NPS-TL', 'WPS+BEZ-TL', 'TO-NC', 'NN-TL', 'WRB+DOD', 'WPS', 'RP-NC', 'PPL-HL', 'MD+HV', 'FW-NN-NC', 'CC-NC', 'PP$-TL', 'HV-HL', 'NP-NC', 'NP$-HL', 'VBG+TO', 'RBR-NC', 'FW-NNS-TL', 'FW-BE', 'WDT+BEZ-TL', 'NPS-TL', 'BER-TL', 'FW-JJ', 'NNS$-HL', 'VB+RP', 'HVG', 'PPS+BEZ-HL', 'FW-AT+NN-TL', 'WQL', 'WDT+BER', 'HVD*', 'CS-TL', 'VBG-HL', 'DO-TL', 'PPS+HVD', 'DT-NC', 'FW-QL', 'WDT', 'PPSS+HVD', 'FW-JJ-TL', 'DOZ', 'JJT', 'TO-TL', 'VBN+TO', 'EX+BEZ', 'JJT-HL', 'WPO-NC', 'QL-NC', 'FW-VBD', 'JJ-TL', 'MD-NC', 'BEDZ*', 'WRB-HL', 'PPSS+VB', 'FW-AT+NP-TL', 'FW-CS', 'FW-AT-TL', 'PN-TL', 'BEM-NC', 'PPSS+BEZ*', 'WRB', 'PPO-NC', 'FW-IN+AT-T', 'QL-TL', 'VBN-TL-NC', 'FW-DT+BEZ', ',-TL', 'FW-JJ-NC', 'NP-TL', 'VBG-TL', 'CC-HL', 'OD-HL', 'FW-AT', 'BER*-NC', 'NPS-NC', 'JJ-TL-HL', ',-NC', 'NPS-HL', 'PPS-HL', 'BEN', 'VBD-HL', 'FW-PPSS', 'EX', '.', 'PPS-TL', 'CC', 'VB+PPO', 'WRB-TL', '*-NC', 'AP-TL', 'NNS$', 'BEN-TL', 'FW-OD-NC', 'BE-TL', 'BE', 'VBZ', 'DOZ*', 'FW-NN-TL', 'PPS-NC', 'VB+VB-NC', 'DTX', 'UH-TL', 'RB+BEZ-HL', 'DO-HL', 'WPS-HL', 'DTS-HL', 'FW-OD-TL', 'NNS-TL-NC', 'NN+HVZ-TL', 'NP+HVZ', 'NP$-TL', 'HVD-HL', 'PPS+HVZ', 'PN+HVD', 'PPL-NC', 'BEDZ-NC', 'NN+HVZ', 'FW-IN', 'DT$', 'VB-HL', 'NNS-TL-HL', 'DTS+BEZ', 'JJ-NC', 'AP-HL', 'PPSS+BER-N', 'FW-PPSS+HV', 'WRB+DOZ', 'TO', 'PPS+MD', 'BER*', 'JJ-HL', 'RB-HL', 'AP', 'EX-HL', 'ABN-NC', 'QL-HL', 'VBN-TL', 'ABN-HL', 'FW-CC-TL', 'PN+BEZ', 'DT-TL', 'DTS', 'JJS-HL', '*', 'IN-NC', 'JJ-TL-NC', 'JJT-NC', 'BEG', 'NR-NC', 'RB+CS', 'NP+BEZ', 'CS', 'AT-HL', 'CC-TL-HL', 'OD-TL', 'WPS-NC', 'NR$-TL', 'PPSS+HV-TL', 'FW-IN+AT-TL', 'JJ', 'PPSS+BER', 'NP', 'WDT+BEZ-NC', 'DTI', 'BEZ', 'BED', 'IN+PPO', 'NP-TL-HL', 'DOZ-HL', 'HVZ-NC', 'MD+TO', 'AP$', 'AT', 'FW-IN+NP-TL', 'VB+IN', 'NIL', 'NN$-HL', 'CD$', 'FW-WDT', '--', 'CS-HL', 'DOD*', 'HVZ', 'ABL', 'NNS-HL', 'PPLS', 'FW-NN', 'JJR+CS', 'VBZ-NC', 'NN+HVD-TL', 'PN', 'PP$-NC', 'PPSS+HV', 'NNS$-NC', 'NN+NN-NC', 'RB$', 'PN$', 'DTI-TL', 'OD-NC', 'NP$', 'DOZ*-TL', 'VBN-TL-HL', 'DT-HL', ')-HL', 'BER-HL', 'FW-IN-TL', 'RBR', 'FW-NNS', 'FW-PP$', 'FW-VBD-TL', 'FW-WPO', 'HV', 'PPS+BEZ-NC', 'RBT', 'CD-TL', 'IN', 'JJR-HL', 'PPSS', ':-HL', 'VB+TO', ':-TL', 'NPS$-HL', 'NNS-TL', 'PN-NC', 'AT-TL-HL'}\n"
          ],
          "name": "stdout"
        }
      ]
    },
    {
      "cell_type": "markdown",
      "metadata": {
        "id": "Gd-3qRA9YosQ",
        "colab_type": "text"
      },
      "source": [
        "#### Bigram Tagging"
      ]
    },
    {
      "cell_type": "code",
      "metadata": {
        "id": "lLTHDkYiXV10",
        "colab_type": "code",
        "colab": {}
      },
      "source": [
        "brown_tagged_sents = brown.tagged_sents()"
      ],
      "execution_count": 0,
      "outputs": []
    },
    {
      "cell_type": "code",
      "metadata": {
        "id": "rHiEtF1aXb--",
        "colab_type": "code",
        "outputId": "8ea13775-aff0-49e8-adf7-0b1cd9b4a294",
        "colab": {
          "base_uri": "https://localhost:8080/",
          "height": 34
        }
      },
      "source": [
        "brown_sents = brown.sents()\n",
        "bigram_tagger = nltk.BigramTagger(brown_tagged_sents)\n",
        "bigram_tagger.evaluate(brown_tagged_sents)"
      ],
      "execution_count": 9,
      "outputs": [
        {
          "output_type": "execute_result",
          "data": {
            "text/plain": [
              "0.8224660521257466"
            ]
          },
          "metadata": {
            "tags": []
          },
          "execution_count": 9
        }
      ]
    },
    {
      "cell_type": "markdown",
      "metadata": {
        "id": "lSJlCNizX8k2",
        "colab_type": "text"
      },
      "source": [
        "#### Seperate the train and test data"
      ]
    },
    {
      "cell_type": "code",
      "metadata": {
        "id": "0ROYjaatYAPW",
        "colab_type": "code",
        "outputId": "df4e8204-2f09-45a8-cd26-7a2edc19e66a",
        "colab": {
          "base_uri": "https://localhost:8080/",
          "height": 51
        }
      },
      "source": [
        "size = int(len(brown_tagged_sents) * 0.75)\n",
        "print(size)\n",
        "train_sents = brown_tagged_sents[:size]\n",
        "test_sents = brown_tagged_sents[size:]\n",
        "bigram_tagger = nltk.BigramTagger(train_sents)\n",
        "bigram_tagger.evaluate(brown_tagged_sents)"
      ],
      "execution_count": 10,
      "outputs": [
        {
          "output_type": "stream",
          "text": [
            "43005\n"
          ],
          "name": "stdout"
        },
        {
          "output_type": "execute_result",
          "data": {
            "text/plain": [
              "0.7034237232085649"
            ]
          },
          "metadata": {
            "tags": []
          },
          "execution_count": 10
        }
      ]
    },
    {
      "cell_type": "code",
      "metadata": {
        "id": "zbIR4sTz_9-r",
        "colab_type": "code",
        "colab": {}
      },
      "source": [
        "from collections import Counter\n",
        "\n",
        "def build_dict(words, vocabulary_size):\n",
        "    vocabulary_counts = [('UNK',None)]+Counter(words).most_common(vocabulary_size-1)\n",
        "    vocabulary = np.array([word for word, _ in vocabulary_counts]) #the second is its counts\n",
        "    dictionary = {word:code for code, word in enumerate(vocabulary)} #dic is word:index pair\n",
        "    data = np.array([dictionary.get(word,0) for word in words]) #unk is zero\n",
        "    reversed_dict = dict(zip(dictionary.values(),dictionary.keys()))\n",
        "    return data, vocabulary_counts, vocabulary, dictionary, reversed_dict"
      ],
      "execution_count": 0,
      "outputs": []
    },
    {
      "cell_type": "code",
      "metadata": {
        "id": "edxRQfy5BmR_",
        "colab_type": "code",
        "colab": {}
      },
      "source": [
        "vocabulary_size = 2000\n",
        "data, vocabulary_counts, vocabulary, dictionary, reversed_dict = build_dict(source_text, vocabulary_size)"
      ],
      "execution_count": 0,
      "outputs": []
    },
    {
      "cell_type": "code",
      "metadata": {
        "id": "ew7fmLazB3Iw",
        "colab_type": "code",
        "outputId": "1eb4f033-35e5-4c77-e31d-b261d62902ea",
        "colab": {
          "base_uri": "https://localhost:8080/",
          "height": 34
        }
      },
      "source": [
        "vocabulary_counts[1]"
      ],
      "execution_count": 13,
      "outputs": [
        {
          "output_type": "execute_result",
          "data": {
            "text/plain": [
              "('the', 62713)"
            ]
          },
          "metadata": {
            "tags": []
          },
          "execution_count": 13
        }
      ]
    },
    {
      "cell_type": "code",
      "metadata": {
        "id": "FAxZf9QbCNen",
        "colab_type": "code",
        "outputId": "bb6b74cc-b512-4be4-cc82-d34b6c42714e",
        "colab": {
          "base_uri": "https://localhost:8080/",
          "height": 34
        }
      },
      "source": [
        "print(len(data))"
      ],
      "execution_count": 14,
      "outputs": [
        {
          "output_type": "stream",
          "text": [
            "1161192\n"
          ],
          "name": "stdout"
        }
      ]
    },
    {
      "cell_type": "code",
      "metadata": {
        "id": "epWr6UK8JeSg",
        "colab_type": "code",
        "colab": {}
      },
      "source": [
        "from collections import deque"
      ],
      "execution_count": 0,
      "outputs": []
    },
    {
      "cell_type": "code",
      "metadata": {
        "id": "kyKbNphMJg1b",
        "colab_type": "code",
        "colab": {}
      },
      "source": [
        "def generate_batch(batch_size, num_skips, skip_window):\n",
        "    global data_index #the left edge of the whole window.\n",
        "    assert batch_size%num_skips==0\n",
        "    assert num_skips<= 2 * skip_window\n",
        "    \n",
        "    batch = np.ndarray(shape=[batch_size], dtype=np.int32)#for input, row vector\n",
        "    labels = np.ndarray(shape=[batch_size,1], dtype=np.int32)#for output, column vector\n",
        "    span = 2*skip_window+1 #[skip window target skip window], word context window\n",
        "    buffer = deque(maxlen=span)#a container could append on both ends\n",
        "    #print(f\"span is {span}\")\n",
        "    for _ in range(span):\n",
        "        buffer.append(data[data_index])#start from data at data_index\n",
        "        data_index=(data_index+1)%len(data)#increase but don't overflow\n",
        "    ## when data_index = 0, skip_window = 2\n",
        "    ## index     0  1 2  3  4\n",
        "    ##buffer =  l1 l2 t r1 r2\n",
        "    #print(f\"buffer is {buffer}\")\n",
        "    \n",
        "    for i in range(batch_size//num_skips):#half of batch_size since num_skips=2\n",
        "        target=skip_window #target label at the center of buffer\n",
        "        targets_to_avoid=[skip_window]# to avoid the target\n",
        "    #    print(f\"{i}:{targets_to_avoid}\")\n",
        "        for j in range(num_skips):\n",
        "     #       print(f\"j={j}: \")\n",
        "            while target in targets_to_avoid:\n",
        "      #          print(f'target in avoid group:{target}')\n",
        "                target = np.random.randint(0,span)\n",
        "       #         print(f\"target becomes {target}\")\n",
        "            targets_to_avoid.append(target)\n",
        "        #    print(f\"targets to avoid {targets_to_avoid}\")\n",
        "            batch[i*num_skips+j]=buffer[skip_window]\n",
        "         #   print(f\"batch[{i*num_skips+j}]={buffer[skip_window]}\")\n",
        "            labels[i*num_skips+j,0]=buffer[target]\n",
        "        \n",
        "        buffer.append(data[data_index])#push out one word\n",
        "        data_index=(data_index+1)%len(data)\n",
        "        #print(f\"buffer = {buffer}\")\n",
        "    ##when num_skips = 2, batch_size=4\n",
        "    ## batch  = t1, t1, t1, t1\n",
        "    ## labels = l1, l2, r1, r2\n",
        "    return batch, labels"
      ],
      "execution_count": 0,
      "outputs": []
    },
    {
      "cell_type": "code",
      "metadata": {
        "id": "cm5qqLB7JoYH",
        "colab_type": "code",
        "colab": {}
      },
      "source": [
        "np.random.seed(8150)"
      ],
      "execution_count": 0,
      "outputs": []
    },
    {
      "cell_type": "code",
      "metadata": {
        "id": "FRPcH-C9JvD_",
        "colab_type": "code",
        "outputId": "cf1986f2-a061-4641-806a-d21978569504",
        "colab": {
          "base_uri": "https://localhost:8080/",
          "height": 153
        }
      },
      "source": [
        "data_index=0\n",
        "print(f\"current data_index = {data_index} and the word is {data[data_index]}:{source_text[data_index]}\")\n",
        "skip_w=2\n",
        "buffer_size = 2*skip_w+1\n",
        "print(f'the processed data slice is {data[:buffer_size+data_index]}')\n",
        "batch, labels=generate_batch(batch_size=4,num_skips=4,skip_window=skip_w)\n",
        "print(f'input vector is {batch}')\n",
        "print(f'output vector is \\n{labels}')"
      ],
      "execution_count": 17,
      "outputs": [
        {
          "output_type": "stream",
          "text": [
            "current data_index = 0 and the word is 15:The\n",
            "the processed data slice is [  15    0 1281    0    0]\n",
            "input vector is [1281 1281 1281 1281]\n",
            "output vector is \n",
            "[[15]\n",
            " [ 0]\n",
            " [ 0]\n",
            " [ 0]]\n"
          ],
          "name": "stdout"
        }
      ]
    },
    {
      "cell_type": "markdown",
      "metadata": {
        "id": "j2sf8Tr0KDhc",
        "colab_type": "text"
      },
      "source": [
        "## Part 3. Build and Train Model"
      ]
    },
    {
      "cell_type": "code",
      "metadata": {
        "id": "zaz1u8S7KGnl",
        "colab_type": "code",
        "colab": {}
      },
      "source": [
        "from tensorflow.python.framework import ops\n",
        "\n",
        "def reset_graph(seed=8150):\n",
        "    ops.reset_default_graph()\n",
        "    #tf.reset_default_graph()\n",
        "    tf.random.set_seed(seed)\n",
        "    np.random.seed(seed)"
      ],
      "execution_count": 0,
      "outputs": []
    },
    {
      "cell_type": "code",
      "metadata": {
        "id": "-y1h-U5hwMuE",
        "colab_type": "code",
        "colab": {}
      },
      "source": [
        "from tensorflow.python.framework import ops\n",
        "\n",
        "def reset_graph(seed=8150):\n",
        "    tf.reset_default_graph()\n",
        "    tf.set_random_seed(seed)\n",
        "    np.random.seed(seed)"
      ],
      "execution_count": 0,
      "outputs": []
    },
    {
      "cell_type": "code",
      "metadata": {
        "id": "GrL8ATbXLIi0",
        "colab_type": "code",
        "outputId": "1331dcc8-fdb7-46bb-e8bf-dfc180e67ad4",
        "colab": {
          "base_uri": "https://localhost:8080/",
          "height": 51
        }
      },
      "source": [
        "\n",
        "reset_graph()\n",
        "params = tf.constant([[10,20,30,40],[1,2,3,4],[6,7,8,9],[23,24,25,26]])\n",
        "ids = tf.constant([1,3])\n",
        "embed = tf.nn.embedding_lookup(params, ids)\n",
        "\n",
        "#print (embed.numpy())\n",
        "\n",
        "with tf.Session() as sess:\n",
        "  print (embed.eval())"
      ],
      "execution_count": 21,
      "outputs": [
        {
          "output_type": "stream",
          "text": [
            "[[ 1  2  3  4]\n",
            " [23 24 25 26]]\n"
          ],
          "name": "stdout"
        }
      ]
    },
    {
      "cell_type": "code",
      "metadata": {
        "id": "eRlum1yLNZtM",
        "colab_type": "code",
        "outputId": "944a9e7b-630f-4545-94e4-e36fd246bcee",
        "colab": {
          "base_uri": "https://localhost:8080/",
          "height": 85
        }
      },
      "source": [
        "reset_graph()\n",
        "embeddings = tf.constant([[2.0,3.0,4.0],[1.0,3.0,5.0]])\n",
        "norm = tf.sqrt(tf.reduce_sum(tf.square(embeddings),axis=1,keepdims=True))\n",
        "normalized_embeddings= embeddings/norm  \n",
        "\n",
        "#print(norm.numpy())\n",
        "#print(normalized_embeddings.numpy())\n",
        "\n",
        "with tf.Session() as sess:\n",
        "  print(norm.eval())\n",
        "  print(normalized_embeddings.eval())"
      ],
      "execution_count": 22,
      "outputs": [
        {
          "output_type": "stream",
          "text": [
            "[[5.3851647]\n",
            " [5.91608  ]]\n",
            "[[0.37139067 0.55708605 0.74278134]\n",
            " [0.16903085 0.50709254 0.8451542 ]]\n"
          ],
          "name": "stdout"
        }
      ]
    },
    {
      "cell_type": "markdown",
      "metadata": {
        "id": "ITm1bSxEwq2O",
        "colab_type": "text"
      },
      "source": [
        "#### Slide"
      ]
    },
    {
      "cell_type": "code",
      "metadata": {
        "id": "JeE21ytywu3M",
        "colab_type": "code",
        "colab": {}
      },
      "source": [
        "def word2vec(X,Y,V, learning_rate=0.01, vocabulary_size = 50000, batch_size=128, \n",
        "             embedding_size=50, skip_window=1, num_skips=2, \n",
        "             neg_num_sampled=64, valid_size= 16, valid_window=100):\n",
        "    \n",
        "    with tf.name_scope('word2vec'):\n",
        "        \n",
        "               \n",
        "        with tf.name_scope('embed'):\n",
        "            #initial values for word embedding for all words\n",
        "            embeddings = tf.Variable(tf.random_uniform([vocabulary_size, embedding_size], -1.0, 1.0), name='embedding_matrix')\n",
        "            embed = tf.nn.embedding_lookup(embeddings, X,name='embedding')#word vectors\n",
        "        \n",
        "        with tf.name_scope('loss'):\n",
        "            #nce loss\n",
        "            nce_weight = tf.get_variable(name='nce_weight', shape=(vocabulary_size, embedding_size),\n",
        "                        initializer=tf.truncated_normal_initializer(stddev=1.0 / np.sqrt(embedding_size)))\n",
        "            nce_bias = tf.get_variable(name='nce_bias', initializer=tf.zeros([vocabulary_size]))\n",
        "\n",
        "            # define loss function to be NCE loss function\n",
        "            loss = tf.reduce_mean(tf.nn.nce_loss(weights=nce_weight, #[vocab_size, embedding_size]\n",
        "                                            biases=nce_bias,         #[vocab_size]\n",
        "                                            labels=Y,                #[batch_size, 1]\n",
        "                                            inputs=embed,            #[batch_size, embedding_size]\n",
        "                                            num_sampled=neg_num_sampled, \n",
        "                                            num_classes=vocabulary_size), name='loss')\n",
        "            \n",
        "        with tf.name_scope('summary'):\n",
        "            loss_summary= tf.summary.scalar('loss',loss)\n",
        "            merged = tf.summary.merge_all()\n",
        "        \n",
        "        with tf.name_scope('optimizer'):\n",
        "            optimizer = tf.train.GradientDescentOptimizer(learning_rate=learning_rate)\n",
        "            #optimizer = tf.train.AdamOptimizer(learning_rate=learning_rate)\n",
        "            training_op = optimizer.minimize(loss)\n",
        "        \n",
        "        with tf.name_scope('valid'):\n",
        "            norm = tf.sqrt(tf.reduce_sum(tf.square(embeddings),axis=1,keepdims=True))\n",
        "            normalized_embeddings= embeddings/norm                                 #the output word_embeddings\n",
        "            valid_embeddings=tf.nn.embedding_lookup(normalized_embeddings,V)\n",
        "            similarity = tf.matmul(valid_embeddings, normalized_embeddings, transpose_b=True)\n",
        "            \n",
        "        with tf.name_scope('init'):\n",
        "            init = tf.global_variables_initializer()\n",
        "        \n",
        "    return training_op, loss, normalized_embeddings, similarity, init"
      ],
      "execution_count": 0,
      "outputs": []
    },
    {
      "cell_type": "code",
      "metadata": {
        "id": "tUhYFEoFwy15",
        "colab_type": "code",
        "colab": {}
      },
      "source": [
        "vocabulary_size=50000\n",
        "    \n",
        "    #build dictionar words\n",
        "data, vocabulary_counts, vocabulary, dictionary, reversed_dict=build_dict(source_text,vocabulary_size)\n",
        "    \n",
        "\n",
        "#We pick a random validation set to sample nearest neighbors.\n",
        "#we use the most frequent words which have a low numeric id.\n",
        "valid_size = 16 #random set of words to evaluate similarity on.\n",
        "valid_window = 100 #only pick dev samples in the head of the distribuiton, word indices, top 100\n",
        "valid_examples = np.random.choice(valid_window, valid_size, replace=False)\n",
        "#num_sampled = 64 #number of negative examples to sample"
      ],
      "execution_count": 0,
      "outputs": []
    },
    {
      "cell_type": "code",
      "metadata": {
        "id": "wfepaRpUx8xi",
        "colab_type": "code",
        "colab": {
          "base_uri": "https://localhost:8080/",
          "height": 88
        },
        "outputId": "ab30e96e-e573-493e-bc43-3cbd8a4cd145"
      },
      "source": [
        "reset_graph()\n",
        "batch_size=128\n",
        "data_index=0\n",
        "train_inputs = tf.placeholder(tf.int32, shape=[batch_size],name='inputs')\n",
        "train_labels = tf.placeholder(tf.int32, shape=[batch_size,1],name='labels')\n",
        "valid_dataset = tf.constant(valid_examples,dtype=tf.int32,name='validate')\n",
        "\n",
        "\n",
        "learning_rate=0.01\n",
        "embedding_size=50 #dimension of the embedding vector\n",
        "skip_window=1 # how many words to consider around target word\n",
        "num_skips = 2 #how many times to reuse an input to generate a label\n",
        "\n",
        "training_op,loss, final_embeddings, similarity, init= word2vec(train_inputs, train_labels,valid_dataset, \n",
        "                                  learning_rate=learning_rate)"
      ],
      "execution_count": 26,
      "outputs": [
        {
          "output_type": "stream",
          "text": [
            "WARNING:tensorflow:From /usr/local/lib/python3.6/dist-packages/tensorflow_core/python/ops/nn_impl.py:183: where (from tensorflow.python.ops.array_ops) is deprecated and will be removed in a future version.\n",
            "Instructions for updating:\n",
            "Use tf.where in 2.0, which has the same broadcast rule as np.where\n"
          ],
          "name": "stdout"
        }
      ]
    },
    {
      "cell_type": "code",
      "metadata": {
        "id": "IJm4v1HOyATW",
        "colab_type": "code",
        "colab": {
          "base_uri": "https://localhost:8080/",
          "height": 884
        },
        "outputId": "286abff8-544c-4ff0-f33f-809532992f3b"
      },
      "source": [
        "num_steps = 10001\n",
        "\n",
        "with tf.Session() as sess:\n",
        "    sess.run(init)\n",
        "    #sess.run(tf.global_variables_initializer())\n",
        "    \n",
        "    average_loss = 0\n",
        "    for step in range(num_steps):\n",
        "        #print(f'Iteration: {step}',end=\"\\t\")\n",
        "        batch_inputs, batch_labels=generate_batch(batch_size, num_skips, skip_window)\n",
        "        feed_dict={train_inputs: batch_inputs, train_labels: batch_labels}\n",
        "        \n",
        "        #we perform one update step by evaluating the training op(including it in the list of returned values for sess.run())\n",
        "        _, loss_val = sess.run([training_op, loss], feed_dict=feed_dict)\n",
        "        \n",
        "        average_loss +=loss_val\n",
        "        \n",
        "        if step%200 ==0:\n",
        "            if step >0:\n",
        "                average_loss/=200\n",
        "            #the average loss is an estimate of the loss over the last 2000 batches\n",
        "            print(f'Average loss at step {step}: {average_loss}')\n",
        "            average_loss=0\n",
        "            \n",
        "    f_embeddings= final_embeddings.eval()"
      ],
      "execution_count": 27,
      "outputs": [
        {
          "output_type": "stream",
          "text": [
            "Average loss at step 0: 313.10333251953125\n",
            "Average loss at step 200: 276.8052930450439\n",
            "Average loss at step 400: 274.4121969604492\n",
            "Average loss at step 600: 269.59430068969726\n",
            "Average loss at step 800: 265.13480781555177\n",
            "Average loss at step 1000: 262.0832052612305\n",
            "Average loss at step 1200: 260.49146766662597\n",
            "Average loss at step 1400: 254.6462216949463\n",
            "Average loss at step 1600: 251.44075538635255\n",
            "Average loss at step 1800: 248.49222999572754\n",
            "Average loss at step 2000: 242.15228607177735\n",
            "Average loss at step 2200: 240.51701881408692\n",
            "Average loss at step 2400: 237.59858863830567\n",
            "Average loss at step 2600: 236.14155433654784\n",
            "Average loss at step 2800: 236.72615867614746\n",
            "Average loss at step 3000: 234.9101392364502\n",
            "Average loss at step 3200: 234.2081382751465\n",
            "Average loss at step 3400: 229.22899116516112\n",
            "Average loss at step 3600: 228.33121459960938\n",
            "Average loss at step 3800: 226.0841081237793\n",
            "Average loss at step 4000: 221.83660415649413\n",
            "Average loss at step 4200: 220.15153854370118\n",
            "Average loss at step 4400: 221.95142120361328\n",
            "Average loss at step 4600: 217.4340087890625\n",
            "Average loss at step 4800: 216.77036338806153\n",
            "Average loss at step 5000: 212.62558647155763\n",
            "Average loss at step 5200: 210.7096183013916\n",
            "Average loss at step 5400: 206.9294911956787\n",
            "Average loss at step 5600: 208.26291160583497\n",
            "Average loss at step 5800: 207.0313762664795\n",
            "Average loss at step 6000: 204.58159133911133\n",
            "Average loss at step 6200: 203.5657489013672\n",
            "Average loss at step 6400: 198.09238311767578\n",
            "Average loss at step 6600: 199.5455593109131\n",
            "Average loss at step 6800: 196.03111854553222\n",
            "Average loss at step 7000: 195.2670327758789\n",
            "Average loss at step 7200: 195.8396961212158\n",
            "Average loss at step 7400: 196.53143714904786\n",
            "Average loss at step 7600: 190.1604734802246\n",
            "Average loss at step 7800: 189.30588638305665\n",
            "Average loss at step 8000: 191.14692642211915\n",
            "Average loss at step 8200: 187.04372444152833\n",
            "Average loss at step 8400: 182.57677902221678\n",
            "Average loss at step 8600: 184.45328788757325\n",
            "Average loss at step 8800: 184.61153358459472\n",
            "Average loss at step 9000: 184.02837451934815\n",
            "Average loss at step 9200: 183.18474250793457\n",
            "Average loss at step 9400: 182.86187255859375\n",
            "Average loss at step 9600: 179.44260765075683\n",
            "Average loss at step 9800: 180.58566371917723\n",
            "Average loss at step 10000: 176.2653831100464\n"
          ],
          "name": "stdout"
        }
      ]
    },
    {
      "cell_type": "code",
      "metadata": {
        "id": "RE43YH0RB_E-",
        "colab_type": "code",
        "colab": {}
      },
      "source": [
        "np.save(\"./my_final_embeddings.npy\", f_embeddings)"
      ],
      "execution_count": 0,
      "outputs": []
    },
    {
      "cell_type": "code",
      "metadata": {
        "id": "iGj0-t7KCEQr",
        "colab_type": "code",
        "colab": {
          "base_uri": "https://localhost:8080/",
          "height": 34
        },
        "outputId": "58c56d23-8d9f-4dd9-c105-c9c5c4ebaceb"
      },
      "source": [
        "type(f_embeddings)"
      ],
      "execution_count": 29,
      "outputs": [
        {
          "output_type": "execute_result",
          "data": {
            "text/plain": [
              "numpy.ndarray"
            ]
          },
          "metadata": {
            "tags": []
          },
          "execution_count": 29
        }
      ]
    },
    {
      "cell_type": "code",
      "metadata": {
        "id": "-KLTeU2TCGm3",
        "colab_type": "code",
        "colab": {
          "base_uri": "https://localhost:8080/",
          "height": 204
        },
        "outputId": "66a86f68-517f-4b3c-c4be-8f68e39e581f"
      },
      "source": [
        "f_embeddings[0]"
      ],
      "execution_count": 30,
      "outputs": [
        {
          "output_type": "execute_result",
          "data": {
            "text/plain": [
              "array([ 0.08538543, -0.22012815,  0.23030978,  0.12598462,  0.18655983,\n",
              "       -0.06729643, -0.14960858,  0.16819799, -0.16585818,  0.25496954,\n",
              "        0.06140701, -0.13597853, -0.25700292,  0.16860063, -0.00342945,\n",
              "        0.10822809,  0.09226105,  0.18555777, -0.17510778,  0.14632791,\n",
              "       -0.04237008,  0.01816081,  0.05769961,  0.06643141, -0.12273761,\n",
              "        0.01990365,  0.0297936 , -0.1010557 ,  0.2284875 ,  0.04906988,\n",
              "       -0.07011926,  0.13179941, -0.09625489,  0.19519708, -0.04809479,\n",
              "        0.07432756,  0.08572074,  0.07658234, -0.17853823, -0.1955371 ,\n",
              "       -0.13535595, -0.10840882, -0.01922591,  0.22131851, -0.22873367,\n",
              "        0.19016095, -0.01718559,  0.07369018,  0.19461283, -0.07725497],\n",
              "      dtype=float32)"
            ]
          },
          "metadata": {
            "tags": []
          },
          "execution_count": 30
        }
      ]
    },
    {
      "cell_type": "code",
      "metadata": {
        "id": "K--tjST5CKkr",
        "colab_type": "code",
        "colab": {}
      },
      "source": [
        "def plot_with_labels(low_dim_embs, labels):\n",
        "    assert low_dim_embs.shape[0]>= len(labels),\"More labels than embeddings\"\n",
        "    plt.figure(figsize=(20,20))#inches\n",
        "    for i , label in enumerate(labels):\n",
        "        x, y = low_dim_embs[i,:]\n",
        "        plt.scatter(x,y)\n",
        "        plt.annotate(label,xy=(x,y), xytext=(5,12), textcoords='offset points', ha='right', va='bottom')"
      ],
      "execution_count": 0,
      "outputs": []
    },
    {
      "cell_type": "code",
      "metadata": {
        "id": "fXwVJMLeCM-R",
        "colab_type": "code",
        "colab": {
          "base_uri": "https://localhost:8080/",
          "height": 1000
        },
        "outputId": "5612fc79-fecd-46d7-dec0-3686ea47885c"
      },
      "source": [
        "from sklearn.manifold import TSNE\n",
        "%matplotlib inline\n",
        "import matplotlib\n",
        "import matplotlib.pyplot as plt\n",
        "\n",
        "plt.rcParams['axes.labelsize']=30\n",
        "plt.rcParams['xtick.labelsize']=12\n",
        "plt.rcParams['ytick.labelsize']=12\n",
        "\n",
        "tsne = TSNE(perplexity=30, n_components=2, init='pca', n_iter=5000)\n",
        "plot_only=100\n",
        "low_dim_embs=tsne.fit_transform(f_embeddings[:plot_only,:])\n",
        "#low_dim_embs = tsne.fit_transform(f_embeddings[plot_only:plot_only*2,:])\n",
        "labels=[vocabulary[i] for i in range(plot_only)]\n",
        "plot_with_labels(low_dim_embs, labels)"
      ],
      "execution_count": 32,
      "outputs": [
        {
          "output_type": "display_data",
          "data": {
            "image/png": "[encoded data removed]",
            "text/plain": [
              "<Figure size 1440x1440 with 1 Axes>"
            ]
          },
          "metadata": {
            "tags": []
          }
        }
      ]
    },
    {
      "cell_type": "markdown",
      "metadata": {
        "id": "wOBuWFGXbNET",
        "colab_type": "text"
      },
      "source": [
        "#### Tensorflow blog"
      ]
    },
    {
      "cell_type": "code",
      "metadata": {
        "id": "eErgsdfXOgzw",
        "colab_type": "code",
        "colab": {}
      },
      "source": [
        "from tensorflow import keras\n",
        "from tensorflow.keras import layers\n",
        "\n",
        "import tensorflow_datasets as tfds"
      ],
      "execution_count": 0,
      "outputs": []
    },
    {
      "cell_type": "code",
      "metadata": {
        "id": "xuWFlUpTCI1g",
        "colab_type": "code",
        "colab": {}
      },
      "source": [
        "encoder = tfds.features.text.SubwordTextEncoder.build_from_corpus(\n",
        "    source_text, target_vocab_size=2**15)"
      ],
      "execution_count": 0,
      "outputs": []
    },
    {
      "cell_type": "code",
      "metadata": {
        "id": "zSumiChVGK9O",
        "colab_type": "code",
        "outputId": "8da6481a-ce79-4e18-88bc-7d49ac3a968b",
        "colab": {
          "base_uri": "https://localhost:8080/",
          "height": 68
        }
      },
      "source": [
        "nltk.download('averaged_perceptron_tagger')\n",
        "from nltk.tag import PerceptronTagger\n",
        "train_tag = PerceptronTagger()\n",
        "train_tag.train(tuple(train_sents))"
      ],
      "execution_count": 0,
      "outputs": [
        {
          "output_type": "stream",
          "text": [
            "[nltk_data] Downloading package averaged_perceptron_tagger to\n",
            "[nltk_data]     /root/nltk_data...\n",
            "[nltk_data]   Unzipping taggers/averaged_perceptron_tagger.zip.\n"
          ],
          "name": "stdout"
        }
      ]
    },
    {
      "cell_type": "code",
      "metadata": {
        "id": "ZAcp4b0FJYT-",
        "colab_type": "code",
        "colab": {}
      },
      "source": [
        "test_tag = PerceptronTagger()\n",
        "test_tag.train(tuple(test_sents))"
      ],
      "execution_count": 0,
      "outputs": []
    },
    {
      "cell_type": "code",
      "metadata": {
        "id": "7zoV1XnSCujQ",
        "colab_type": "code",
        "outputId": "fd373291-9659-425e-b185-08bf9f74cde3",
        "colab": {
          "base_uri": "https://localhost:8080/",
          "height": 197
        }
      },
      "source": [
        "padded_shapes = ([None],())\n",
        "train_batches = train_tag.shuffle(1000).padded_batch(10, padded_shapes = padded_shapes)\n",
        "test_batches = test_tag.shuffle(1000).padded_batch(10, padded_shapes = padded_shapes)"
      ],
      "execution_count": 0,
      "outputs": [
        {
          "output_type": "error",
          "ename": "AttributeError",
          "evalue": "ignored",
          "traceback": [
            "\u001b[0;31m---------------------------------------------------------------------------\u001b[0m",
            "\u001b[0;31mAttributeError\u001b[0m                            Traceback (most recent call last)",
            "\u001b[0;32m<ipython-input-39-dbcf39630230>\u001b[0m in \u001b[0;36m<module>\u001b[0;34m()\u001b[0m\n\u001b[1;32m      1\u001b[0m \u001b[0mpadded_shapes\u001b[0m \u001b[0;34m=\u001b[0m \u001b[0;34m(\u001b[0m\u001b[0;34m[\u001b[0m\u001b[0;32mNone\u001b[0m\u001b[0;34m]\u001b[0m\u001b[0;34m,\u001b[0m\u001b[0;34m(\u001b[0m\u001b[0;34m)\u001b[0m\u001b[0;34m)\u001b[0m\u001b[0;34m\u001b[0m\u001b[0;34m\u001b[0m\u001b[0m\n\u001b[0;32m----> 2\u001b[0;31m \u001b[0mtrain_batches\u001b[0m \u001b[0;34m=\u001b[0m \u001b[0mtrain_tag\u001b[0m\u001b[0;34m.\u001b[0m\u001b[0mpadded_batch\u001b[0m\u001b[0;34m(\u001b[0m\u001b[0;36m10\u001b[0m\u001b[0;34m,\u001b[0m \u001b[0mpadded_shapes\u001b[0m \u001b[0;34m=\u001b[0m \u001b[0mpadded_shapes\u001b[0m\u001b[0;34m)\u001b[0m\u001b[0;34m\u001b[0m\u001b[0;34m\u001b[0m\u001b[0m\n\u001b[0m\u001b[1;32m      3\u001b[0m \u001b[0mtest_batches\u001b[0m \u001b[0;34m=\u001b[0m \u001b[0mtest_tag\u001b[0m\u001b[0;34m.\u001b[0m\u001b[0mpadded_batch\u001b[0m\u001b[0;34m(\u001b[0m\u001b[0;36m10\u001b[0m\u001b[0;34m,\u001b[0m \u001b[0mpadded_shapes\u001b[0m \u001b[0;34m=\u001b[0m \u001b[0mpadded_shapes\u001b[0m\u001b[0;34m)\u001b[0m\u001b[0;34m\u001b[0m\u001b[0;34m\u001b[0m\u001b[0m\n",
            "\u001b[0;31mAttributeError\u001b[0m: 'PerceptronTagger' object has no attribute 'padded_batch'"
          ]
        }
      ]
    },
    {
      "cell_type": "code",
      "metadata": {
        "id": "hTvka0vXDRlu",
        "colab_type": "code",
        "colab": {}
      },
      "source": [
        ""
      ],
      "execution_count": 0,
      "outputs": []
    }
  ]
}